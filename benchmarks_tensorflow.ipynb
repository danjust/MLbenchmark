{
 "cells": [
  {
   "cell_type": "markdown",
   "metadata": {},
   "source": [
    "#### import dependencies"
   ]
  },
  {
   "cell_type": "code",
   "execution_count": null,
   "metadata": {},
   "outputs": [],
   "source": [
    "import tensorflow as tf\n",
    "import numpy as np\n",
    "import time\n",
    "import matplotlib.pyplot as plt\n",
    "from utilsTF import Benchmark_MatMul, Benchmark_Conv"
   ]
  },
  {
   "cell_type": "markdown",
   "metadata": {},
   "source": [
    "#### settings"
   ]
  },
  {
   "cell_type": "code",
   "execution_count": null,
   "metadata": {
    "collapsed": true
   },
   "outputs": [],
   "source": [
    "kernelsize = 15\n",
    "iterations = 3\n",
    "dev = \"/cpu:0\""
   ]
  },
  {
   "cell_type": "markdown",
   "metadata": {},
   "source": [
    "#### run and plot matrix multiplication benchmark"
   ]
  },
  {
   "cell_type": "code",
   "execution_count": null,
   "metadata": {
    "collapsed": true
   },
   "outputs": [],
   "source": [
    "numsteps = 25\n",
    "\n",
    "timeUsedMult = np.zeros(numsteps)\n",
    "opsMult = np.zeros(numsteps)\n",
    "matsizeMult = np.zeros(numsteps)\n",
    "for step in range(0,numsteps):\n",
    "    matsizeMult[step] = (step+1)*50\n",
    "    opsMult[step] = matsizeMult[step]**3 + (matsizeMult[step]-1)*matsizeMult[step]**2       # matsize**3 multiplications, (matsize-1)*matsize**2 additions\n",
    "    timeUsedMult[step] = Benchmark_MatMul(matsizeMult[step],iterations,dev)"
   ]
  },
  {
   "cell_type": "code",
   "execution_count": null,
   "metadata": {},
   "outputs": [],
   "source": [
    "f, (ax1, ax2) = plt.subplots(1,2,figsize=(15, 6))\n",
    "\n",
    "ax1.plot(opsMult,timeUsedMult,'.')\n",
    "ax1.set_xlabel(\"# operations\")\n",
    "ax1.set_ylabel(\"time [s]\")\n",
    "\n",
    "ax2.plot(matsizeMult,opsMult*1e-9/timeUsedMult,'.')\n",
    "ax2.set_xlabel(\"Matrix size\")\n",
    "ax2.set_ylabel(\"GFLOPs\")\n",
    "plt.show()"
   ]
  },
  {
   "cell_type": "markdown",
   "metadata": {},
   "source": [
    "#### run and plot convolution benchmark"
   ]
  },
  {
   "cell_type": "code",
   "execution_count": null,
   "metadata": {
    "collapsed": true
   },
   "outputs": [],
   "source": [
    "numsteps = 25\n",
    "\n",
    "timeUsedConv = np.zeros(numsteps)\n",
    "opsConv = np.zeros(numsteps)\n",
    "matsizeConv = np.zeros(numsteps)\n",
    "\n",
    "for step in range(0,numsteps):\n",
    "    matsizeConv[step] = (step+1)*50\n",
    "    opsConv[step] = (matsizeConv[step]-kernelsize+1)**2 * (kernelsize**3 + (kernelsize-1)*kernelsize**2)     # (matsize.kernelsize+1)**2 GEMMs\n",
    "    timeUsedConv[step] = Benchmark_Conv(matsizeConv[step],kernelsize,iterations,dev)"
   ]
  },
  {
   "cell_type": "code",
   "execution_count": null,
   "metadata": {},
   "outputs": [],
   "source": [
    "f, (ax1, ax2) = plt.subplots(1,2,figsize=(15, 6))\n",
    "\n",
    "ax1.plot(opsConv,timeUsedConv,'.')\n",
    "ax1.set_xlabel(\"# operations\")\n",
    "ax1.set_ylabel(\"time [s]\")\n",
    "\n",
    "ax2.plot(matsizeConv,opsConv*1e-9/timeUsedConv,'.')\n",
    "ax2.set_xlabel(\"Matrix size\")\n",
    "ax2.set_ylabel(\"GFLOPs\")\n",
    "plt.show()"
   ]
  }
 ],
 "metadata": {
  "kernelspec": {
   "display_name": "Python 3",
   "language": "python",
   "name": "python3"
  },
  "language_info": {
   "codemirror_mode": {
    "name": "ipython",
    "version": 3
   },
   "file_extension": ".py",
   "mimetype": "text/x-python",
   "name": "python",
   "nbconvert_exporter": "python",
   "pygments_lexer": "ipython3",
   "version": "3.6.3"
  }
 },
 "nbformat": 4,
 "nbformat_minor": 2
}
