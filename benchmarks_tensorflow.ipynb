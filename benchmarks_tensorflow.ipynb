{
 "cells": [
  {
   "cell_type": "markdown",
   "metadata": {},
   "source": [
    "#### Import dependencies"
   ]
  },
  {
   "cell_type": "code",
   "execution_count": null,
   "metadata": {},
   "outputs": [],
   "source": [
    "import tensorflow as tf\n",
    "import numpy as np\n",
    "import time\n",
    "import matplotlib.pyplot as plt\n",
    "\n",
    "from utils_tf import benchmark_matmul\n",
    "from utils_tf import benchmark_conv\n",
    "from utils_tf import benchmark_rnn\n",
    "from utils_tf import benchmark_cnn"
   ]
  },
  {
   "cell_type": "markdown",
   "metadata": {},
   "source": [
    "#### Parameters"
   ]
  },
  {
   "cell_type": "code",
   "execution_count": null,
   "metadata": {
    "collapsed": true
   },
   "outputs": [],
   "source": [
    "kernelsize = 15\n",
    "iterations = 3\n",
    "num_gpu = 0\n",
    "devlist = '/cpu:0'\n",
    "datatype = 'float32'"
   ]
  },
  {
   "cell_type": "markdown",
   "metadata": {},
   "source": [
    "#### Run and plot matrix multiplication benchmark"
   ]
  },
  {
   "cell_type": "code",
   "execution_count": null,
   "metadata": {
    "collapsed": true
   },
   "outputs": [],
   "source": [
    "numsteps = 25\n",
    "\n",
    "timeUsedMult = np.zeros(numsteps)\n",
    "opsMult = np.zeros(numsteps)\n",
    "matsizeMult = np.zeros(numsteps)\n",
    "for step in range(0,numsteps):\n",
    "    matsizeMult[step] = (step+1)*50\n",
    "    opsMult[step] = (matsizeMult[step]**3 \n",
    "                     + (matsizeMult[step]-1)*matsizeMult[step]**2)     \n",
    "    # matsize**3 multiplications, (matsize-1)*matsize**2 additions\n",
    "    timeUsedMult[step] = benchmark_matmul.benchmark_matmul(\n",
    "            matsizeMult[step],\n",
    "            iterations,\n",
    "            num_gpu,\n",
    "            devlist,\n",
    "            datatype)"
   ]
  },
  {
   "cell_type": "code",
   "execution_count": null,
   "metadata": {},
   "outputs": [],
   "source": [
    "f, (ax1, ax2) = plt.subplots(1,2,figsize=(15, 6))\n",
    "\n",
    "ax1.plot(opsMult,timeUsedMult,'.')\n",
    "ax1.set_xlabel(\"# operations\")\n",
    "ax1.set_ylabel(\"time [s]\")\n",
    "\n",
    "ax2.plot(matsizeMult,opsMult*1e-9/timeUsedMult,'.')\n",
    "ax2.set_xlabel(\"Matrix size\")\n",
    "ax2.set_ylabel(\"GFLOPs\")\n",
    "plt.show()"
   ]
  },
  {
   "cell_type": "markdown",
   "metadata": {},
   "source": [
    "#### Run and plot convolution benchmark"
   ]
  },
  {
   "cell_type": "code",
   "execution_count": null,
   "metadata": {
    "collapsed": true
   },
   "outputs": [],
   "source": [
    "numsteps = 25\n",
    "\n",
    "timeUsedConv = np.zeros(numsteps)\n",
    "opsConv = np.zeros(numsteps)\n",
    "matsizeConv = np.zeros(numsteps)\n",
    "\n",
    "for step in range(0,numsteps):\n",
    "    matsizeConv[step] = (step+1)*50\n",
    "    opsConv[step] = ((matsizeConv[step]-kernelsize+1)**2 \n",
    "                     * (kernelsize**3 + (kernelsize-1)*kernelsize**2))     \n",
    "    # (matsize.kernelsize+1)**2 GEMMs\n",
    "    timeUsedConv[step] = benchmark_conv.benchmark_conv(\n",
    "            matsizeConv[step],\n",
    "            kernelsize,\n",
    "            iterations,\n",
    "            num_gpu,\n",
    "            devlist,\n",
    "            datatype)"
   ]
  },
  {
   "cell_type": "code",
   "execution_count": null,
   "metadata": {},
   "outputs": [],
   "source": [
    "f, (ax1, ax2) = plt.subplots(1,2,figsize=(15, 6))\n",
    "\n",
    "ax1.plot(opsConv,timeUsedConv,'.')\n",
    "ax1.set_xlabel(\"# operations\")\n",
    "ax1.set_ylabel(\"time [s]\")\n",
    "\n",
    "ax2.plot(matsizeConv,opsConv*1e-9/timeUsedConv,'.')\n",
    "ax2.set_xlabel(\"Matrix size\")\n",
    "ax2.set_ylabel(\"GFLOPs\")\n",
    "plt.show()"
   ]
  },
  {
   "cell_type": "markdown",
   "metadata": {},
   "source": [
    "#### Parameters RNN\n"
   ]
  },
  {
   "cell_type": "code",
   "execution_count": null,
   "metadata": {
    "collapsed": true
   },
   "outputs": [],
   "source": [
    "rnn_type = 'rnn'\n",
    "batch_size = 32\n",
    "num_samples = 10000\n",
    "num_units = 32\n",
    "num_classes = 10\n",
    "learning_rate = 0.001\n",
    "iterations_rnn = 1000"
   ]
  },
  {
   "cell_type": "markdown",
   "metadata": {},
   "source": [
    "#### Run and plot RNN bechmark"
   ]
  },
  {
   "cell_type": "code",
   "execution_count": null,
   "metadata": {
    "collapsed": true
   },
   "outputs": [],
   "source": [
    "numsteps = 50\n",
    "\n",
    "timeUsedRNN = np.zeros(numsteps)\n",
    "seq_length = np.zeros(numsteps).astype(np.int16)\n",
    "\n",
    "for step in range(0,numsteps):\n",
    "    seq_length[step] = (step+2)\n",
    "\n",
    "    timeUsedRNN[step] = benchmark_rnn.benchmark_rnn(\n",
    "            rnn_type,\n",
    "            seq_length[step],\n",
    "            batch_size,\n",
    "            num_samples,\n",
    "            num_units,\n",
    "            num_classes,\n",
    "            learning_rate,\n",
    "            iterations_rnn,\n",
    "            num_gpu,\n",
    "            devlist,\n",
    "            datatype)"
   ]
  },
  {
   "cell_type": "code",
   "execution_count": null,
   "metadata": {},
   "outputs": [],
   "source": [
    "f, (ax1) = plt.subplots(1,1,figsize=(10, 6))\n",
    "ax1.plot(seq_length,timeUsedRNN,'.')\n",
    "ax1.set_xlabel(\"Sequence length\")\n",
    "ax1.set_ylabel(\"steps per sec\")\n",
    "plt.show()"
   ]
  },
  {
   "cell_type": "markdown",
   "metadata": {
    "collapsed": true
   },
   "source": [
    "#### Run and plot CNN benchmark"
   ]
  },
  {
   "cell_type": "code",
   "execution_count": null,
   "metadata": {
    "collapsed": true
   },
   "outputs": [],
   "source": [
    "num_layers_cnn = 3\n",
    "num_features_cnn = [4,8,16]\n",
    "kernel_cnn = [3,3,3]\n",
    "pooling_cnn = [3,3,3]\n",
    "num_trainimg = 10000\n",
    "num_testimg = 1000\n",
    "imgsize = 50\n",
    "numsteps_cnn = 1000\n",
    "batchsize_cnn = 32\n",
    "logstep_cnn = 50"
   ]
  },
  {
   "cell_type": "code",
   "execution_count": null,
   "metadata": {},
   "outputs": [],
   "source": [
    "timeUsed_train, timeUsed_infer, acc = benchmark_cnn.benchmark_cnn(\n",
    "        num_layers_cnn,\n",
    "        num_features_cnn,\n",
    "        kernel_cnn,\n",
    "        pooling_cnn,\n",
    "        num_trainimg,\n",
    "        num_testimg,\n",
    "        imgsize,\n",
    "        numsteps_cnn,\n",
    "        batchsize_cnn,\n",
    "        logstep_cnn)"
   ]
  },
  {
   "cell_type": "code",
   "execution_count": null,
   "metadata": {},
   "outputs": [],
   "source": [
    "f, (ax1) = plt.subplots(1,1,figsize=(10, 6))\n",
    "ax1.plot(acc,'-')\n",
    "ax1.set_xlabel(\"step\")\n",
    "ax1.set_ylabel(\"accuracy\")\n",
    "plt.show()"
   ]
  },
  {
   "cell_type": "code",
   "execution_count": null,
   "metadata": {
    "collapsed": true
   },
   "outputs": [],
   "source": []
  }
 ],
 "metadata": {
  "kernelspec": {
   "display_name": "Python 3",
   "language": "python",
   "name": "python3"
  },
  "language_info": {
   "codemirror_mode": {
    "name": "ipython",
    "version": 3
   },
   "file_extension": ".py",
   "mimetype": "text/x-python",
   "name": "python",
   "nbconvert_exporter": "python",
   "pygments_lexer": "ipython3",
   "version": "3.6.3"
  }
 },
 "nbformat": 4,
 "nbformat_minor": 2
}
